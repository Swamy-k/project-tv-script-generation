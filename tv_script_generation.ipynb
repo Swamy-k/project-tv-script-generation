{
  "nbformat": 4,
  "nbformat_minor": 0,
  "metadata": {
    "colab": {
      "name": "tv_script_generation.ipynb",
      "version": "0.3.2",
      "provenance": [],
      "collapsed_sections": [],
      "toc_visible": true
    },
    "kernelspec": {
      "name": "python3",
      "display_name": "Python 3"
    },
    "accelerator": "GPU"
  },
  "cells": [
    {
      "metadata": {
        "id": "KtC7Qx3JZL_u",
        "colab_type": "text"
      },
      "cell_type": "markdown",
      "source": [
        "# TV Script Generation\n",
        "In this project, we'll generate our own Seinfeld TV scripts using RNNs.\n",
        "<p>we'll be using part of the Seinfeld dataset of scripts from 9 seasons. The Neural Network we'll build will generate a new ,\"fake\" TV script, based on patterns it recognizes in this training data.</p>"
      ]
    },
    {
      "metadata": {
        "id": "4fSKXrEoYufO",
        "colab_type": "code",
        "colab": {}
      },
      "cell_type": "code",
      "source": [
        "from zipfile import ZipFile\n",
        "\n",
        "with ZipFile('Seinfeld_Scripts.zip', 'r') as zip_ref:\n",
        "  zip_ref.extractall('/content')"
      ],
      "execution_count": 0,
      "outputs": []
    },
    {
      "metadata": {
        "id": "XW07oqW4bLlb",
        "colab_type": "text"
      },
      "cell_type": "markdown",
      "source": [
        "## Get the Data\n",
        "* As a first step, we'll load in this data and look at some samples."
      ]
    },
    {
      "metadata": {
        "id": "PDzse5vIauKZ",
        "colab_type": "code",
        "colab": {}
      },
      "cell_type": "code",
      "source": [
        "import os\n",
        "def load_data(path):\n",
        "  \"\"\"\n",
        "  Load Dataset from File\n",
        "  \"\"\"\n",
        "  input_file = os.path.join(path)\n",
        "  with open(input_file, \"r\") as f:\n",
        "    data = f.read()\n",
        "\n",
        "  return data"
      ],
      "execution_count": 0,
      "outputs": []
    },
    {
      "metadata": {
        "id": "MxzxxeC0q4Bk",
        "colab_type": "code",
        "colab": {}
      },
      "cell_type": "code",
      "source": [
        "data_dir = '/content/Seinfeld_Scripts.txt'\n",
        "text = load_data(data_dir)"
      ],
      "execution_count": 0,
      "outputs": []
    },
    {
      "metadata": {
        "id": "boCs9jvFclZe",
        "colab_type": "text"
      },
      "cell_type": "markdown",
      "source": [
        "##  Explore the data"
      ]
    },
    {
      "metadata": {
        "id": "4VfR6svXb0uY",
        "colab_type": "code",
        "outputId": "e6009a5d-d731-4bc5-c3a1-333fef3935d8",
        "colab": {
          "base_uri": "https://localhost:8080/",
          "height": 309
        }
      },
      "cell_type": "code",
      "source": [
        "view_line_range = (0, 10)\n",
        "\n",
        "import numpy as np\n",
        "\n",
        "print('Dataset Stats')\n",
        "print('Roughly the number of unique words: {}'.format(len({word: None for word in text.split()})))\n",
        "\n",
        "lines = text.split('\\n')\n",
        "print('Number of lines: {}'.format(len(lines)))\n",
        "word_count_line = [len(line.split()) for line in lines]\n",
        "print('Average number of words in each line: {}'.format(np.average(word_count_line)))\n",
        "\n",
        "print()\n",
        "print('The lines {} to {}:'.format(*view_line_range))\n",
        "print('\\n'.join(text.split('\\n')[view_line_range[0]:view_line_range[1]]))"
      ],
      "execution_count": 0,
      "outputs": [
        {
          "output_type": "stream",
          "text": [
            "Dataset Stats\n",
            "Roughly the number of unique words: 46367\n",
            "Number of lines: 109233\n",
            "Average number of words in each line: 5.544240293684143\n",
            "\n",
            "The lines 0 to 10:\n",
            "jerry: do you know what this is all about? do you know, why were here? to be out, this is out...and out is one of the single most enjoyable experiences of life. people...did you ever hear people talking about we should go out? this is what theyre talking about...this whole thing, were all out now, no one is home. not one person here is home, were all out! there are people trying to find us, they dont know where we are. (on an imaginary phone) did you ring?, i cant find him. where did he go? he didnt tell me where he was going. he must have gone out. you wanna go out you get ready, you pick out the clothes, right? you take the shower, you get all ready, get the cash, get your friends, the car, the spot, the reservation...then youre standing around, what do you do? you go we gotta be getting back. once youre out, you wanna get back! you wanna go to sleep, you wanna get up, you wanna go out again tomorrow, right? where ever you are in life, its my feeling, youve gotta go. \n",
            "\n",
            "jerry: (pointing at georges shirt) see, to me, that button is in the worst possible spot. the second button literally makes or breaks the shirt, look at it. its too high! its in no-mans-land. you look like you live with your mother. \n",
            "\n",
            "george: are you through? \n",
            "\n",
            "jerry: you do of course try on, when you buy? \n",
            "\n",
            "george: yes, it was purple, i liked it, i dont actually recall considering the buttons. \n",
            "\n"
          ],
          "name": "stdout"
        }
      ]
    },
    {
      "metadata": {
        "id": "10iPLru_avXa",
        "colab_type": "text"
      },
      "cell_type": "markdown",
      "source": [
        "### Implement Pre_processing Functions"
      ]
    },
    {
      "metadata": {
        "id": "U37ARx8YbH62",
        "colab_type": "text"
      },
      "cell_type": "markdown",
      "source": [
        "The first thing to do to any dataset is pre-processing.\n",
        "### Lookup Table\n",
        "To create a word embedding, you first need to transform the words to ids. In this function,  we create two dictionaries\n",
        "- vocab_to_int - Dictionary to go from the words to an id\n",
        "- int_to_vocab - Dictionary to go from the id to word"
      ]
    },
    {
      "metadata": {
        "id": "xSln7JKoYP3v",
        "colab_type": "code",
        "colab": {}
      },
      "cell_type": "code",
      "source": [
        "from collections import Counter\n",
        "def create_lookup_tables(text):\n",
        "  '''\n",
        "  Create lookup tables for vocabulary\n",
        "  :param text: The text of tv scripts split into words\n",
        "  :return: A tuple of dicts (vocab_to_int, int_to_vocab)\n",
        "  '''\n",
        "  counts = Counter(text)\n",
        "  sorted_vocab = sorted(counts, key = counts.get, reverse = True)\n",
        "  \n",
        "  # create into_to_vocab and vocab_to_int dictionaries\n",
        "  into_to_vocab = {ii:word for ii, word in enumerate(sorted_vocab)}\n",
        "  vocab_to_int = {word:ii for ii, word in into_to_vocab.items()}\n",
        "  \n",
        "  \n",
        "  return (vocab_to_int, into_to_vocab)"
      ],
      "execution_count": 0,
      "outputs": []
    },
    {
      "metadata": {
        "id": "wG99sEd1lNgU",
        "colab_type": "text"
      },
      "cell_type": "markdown",
      "source": [
        "### Tokenize function\n",
        "We'll be splitting the script into a word array using spaces as delimiters. However, punctuations like periods and exclamation marks can create multiple ids for the same word. For example, \"bye\" and \"bye!\" would generate two different word ids.\n",
        "\n",
        "Function token_lookup to return a dict that will be used to tokenize symbols like \"!\" into \"||Exclamation_Mark||\". Create a dictionary for the following symbols where the symbol is the key and value is the token:\n",
        "- Period ( . )\n",
        "- Comma ( , )\n",
        "- Quotation Mark ( \" )\n",
        "- Semicolon ( ; )\n",
        "- Exclamation mark ( ! )\n",
        "- Question mark ( ? )\n",
        "- Left Parentheses ( ( )\n",
        "- Right Parentheses ( ) )\n",
        "- Dash ( - )\n",
        "- Return ( \\n )\n",
        "\n",
        "This dictionary will be used to tokenize the symbols and add the delimiter (space) around it. This separates each symbols as its own word, making it easier for the neural network to predict the next word"
      ]
    },
    {
      "metadata": {
        "id": "W4kvt7OBfe5x",
        "colab_type": "code",
        "colab": {}
      },
      "cell_type": "code",
      "source": [
        "def token_lookup():\n",
        "  '''\n",
        "  Generate a dict to turn punctuation into a token\n",
        "  :return: Tokenized dictionary where puctuation is the key and value iis the token\n",
        "  '''\n",
        "  \n",
        "  tokenized_dictionary = dict()\n",
        "  tokenized_dictionary[\".\"] = \"||period||\"\n",
        "  tokenized_dictionary[\",\"] = \"||comma||\"\n",
        "  tokenized_dictionary[\"\\\"\"] = \"||quotationmark||\"\n",
        "  tokenized_dictionary[\";\"] = \"||semicolon||\"\n",
        "  tokenized_dictionary[\"!\"] = \"||exclamationmark||\"\n",
        "  tokenized_dictionary[\"?\"] = \"||questionmark||\"\n",
        "  tokenized_dictionary[\"(\"] = \"||lparentheses||\"\n",
        "  tokenized_dictionary[\")\"] = \"||rparentheses||\"\n",
        "  tokenized_dictionary[\"-\"] = \"||dash||\"\n",
        "  tokenized_dictionary[\"\\n\"] = \"||return||\"\n",
        "  \n",
        "  \n",
        "  return tokenized_dictionary"
      ],
      "execution_count": 0,
      "outputs": []
    },
    {
      "metadata": {
        "id": "YL073RFWpioi",
        "colab_type": "text"
      },
      "cell_type": "markdown",
      "source": [
        "## Preprocess all the data and save it\n",
        "Running the code cell below will pre-process all the data and save it to file"
      ]
    },
    {
      "metadata": {
        "id": "lLcQM-ljgAkC",
        "colab_type": "code",
        "colab": {}
      },
      "cell_type": "code",
      "source": [
        "import pickle\n",
        "SPECIAL_WORDS = {'PADDING': '<PAD>'}\n",
        "def preprocess_and_save_data(data_dir, token_lookup, create_lookup_tables):\n",
        "  \"\"\"\n",
        "  Preprocess Text Data\n",
        "  \"\"\"\n",
        "  text = load_data(data_dir)\n",
        "  # Ignore notice, since we don't use it for analysing the data\n",
        "  text = text[81:]\n",
        "\n",
        "  token_dict = token_lookup()\n",
        "  for key, token in token_dict.items():\n",
        "    text = text.replace(key, ' {} '.format(token))\n",
        "\n",
        "  text = text.lower()\n",
        "  text = text.split()\n",
        "\n",
        "  vocab_to_int, int_to_vocab = create_lookup_tables(text + list(SPECIAL_WORDS.values()))\n",
        "  int_text = [vocab_to_int[word] for word in text]\n",
        "  pickle.dump((int_text, vocab_to_int, int_to_vocab, token_dict), open('preprocess.p', 'wb'))"
      ],
      "execution_count": 0,
      "outputs": []
    },
    {
      "metadata": {
        "id": "I6OpFBKQjh5K",
        "colab_type": "code",
        "colab": {}
      },
      "cell_type": "code",
      "source": [
        "preprocess_and_save_data(data_dir, token_lookup, create_lookup_tables)"
      ],
      "execution_count": 0,
      "outputs": []
    },
    {
      "metadata": {
        "id": "B9w2ojhvrm1m",
        "colab_type": "text"
      },
      "cell_type": "markdown",
      "source": [
        "## Check Point\n",
        "This is the first checkpoint.The preprocessed data has been saved to disk.\n"
      ]
    },
    {
      "metadata": {
        "id": "3jDGM8fFsS8X",
        "colab_type": "code",
        "colab": {}
      },
      "cell_type": "code",
      "source": [
        "def load_preprocess():\n",
        "  \"\"\"\n",
        "  Load the Preprocessed Training data and return them in batches of <batch_size> or less\n",
        "  \"\"\"\n",
        "  return pickle.load(open('preprocess.p', mode='rb'))"
      ],
      "execution_count": 0,
      "outputs": []
    },
    {
      "metadata": {
        "id": "Jdx7EdrssaAL",
        "colab_type": "code",
        "colab": {}
      },
      "cell_type": "code",
      "source": [
        "int_text, vocab_to_int, int_to_vocab, token_dict = load_preprocess()"
      ],
      "execution_count": 0,
      "outputs": []
    },
    {
      "metadata": {
        "id": "FvD4kcRrAouZ",
        "colab_type": "code",
        "outputId": "1978bb8b-fe2f-406f-bd00-7a625e8df9ba",
        "colab": {
          "base_uri": "https://localhost:8080/",
          "height": 68
        }
      },
      "cell_type": "code",
      "source": [
        "print (int_text[:10])\n",
        "print('size of vocab_to_int: %d' %len(vocab_to_int))\n",
        "print('size of int_to_vocab: %d'%len(int_to_vocab))"
      ],
      "execution_count": 0,
      "outputs": [
        {
          "output_type": "stream",
          "text": [
            "[24, 22, 47, 1, 1, 1, 17, 47, 22, 82]\n",
            "size of vocab_to_int: 21388\n",
            "size of int_to_vocab: 21388\n"
          ],
          "name": "stdout"
        }
      ]
    },
    {
      "metadata": {
        "id": "Elhvg4kd_hfh",
        "colab_type": "text"
      },
      "cell_type": "markdown",
      "source": [
        "## Build the Neural Network\n",
        "In this section, we'll build the components necessary to build an RNN by implementing the RNN Module and forward and backpropagation functions."
      ]
    },
    {
      "metadata": {
        "id": "pqz0XIbHglUU",
        "colab_type": "text"
      },
      "cell_type": "markdown",
      "source": [
        "## Check Access to GPU"
      ]
    },
    {
      "metadata": {
        "id": "-tKKdUcbguaB",
        "colab_type": "code",
        "outputId": "3ffbe2dd-36a5-40c1-cc06-67064caaf0c2",
        "colab": {
          "base_uri": "https://localhost:8080/",
          "height": 34
        }
      },
      "cell_type": "code",
      "source": [
        "\n",
        "# check for GPU\n",
        "train_on_gpu = torch.cuda.is_available()\n",
        "if train_on_gpu:\n",
        "  print('CUDA is Available! Training on GPU')\n",
        "else:\n",
        "  print('No GPU found. Please use a GPU to train your neural network.')"
      ],
      "execution_count": 0,
      "outputs": [
        {
          "output_type": "stream",
          "text": [
            "CUDA is Available! Training on GPU\n"
          ],
          "name": "stdout"
        }
      ]
    },
    {
      "metadata": {
        "id": "fL5V-ijp_zbx",
        "colab_type": "code",
        "colab": {}
      },
      "cell_type": "code",
      "source": [
        "from torch.utils.data import TensorDataset, DataLoader\n",
        "\n",
        "def batch_data(words, sequence_length, batch_size):\n",
        "  '''\n",
        "  Batch the Neural Network Data Using Dataloader\n",
        "  :param words: the word ids of the tv scripts\n",
        "  :param seq_length: the sequence of each batch\n",
        "  :param batch_size: the size of each batch, number of sequences in each batch\n",
        "  :return DataLoader with batch data\n",
        "  '''\n",
        "  \n",
        "  num_batches = len(words) // batch_size\n",
        "  # get only the batches that will make full batches\n",
        "  words = words[:num_batches * batch_size]\n",
        "  \n",
        "  features, targets = [], []\n",
        "  \n",
        "  for idx in range(0, (len(words) - sequence_length)):\n",
        "    features.append(words[idx:idx+sequence_length])\n",
        "    targets.append(words[idx + sequence_length])\n",
        "    \n",
        "  tensor_data = TensorDataset(torch.from_numpy(np.asarray(features)), torch.from_numpy(np.asarray(targets)))\n",
        "  data_loader = DataLoader(tensor_data, shuffle = True, batch_size = batch_size)\n",
        "  \n",
        "  return data_loader\n",
        "    "
      ],
      "execution_count": 0,
      "outputs": []
    },
    {
      "metadata": {
        "id": "xa_FI-bzEj4Y",
        "colab_type": "text"
      },
      "cell_type": "markdown",
      "source": [
        "## Testing Data Loader"
      ]
    },
    {
      "metadata": {
        "id": "PykMtFJvEkXz",
        "colab_type": "code",
        "outputId": "3967476f-dd9e-48e9-d348-ca23a164ab2f",
        "colab": {
          "base_uri": "https://localhost:8080/",
          "height": 255
        }
      },
      "cell_type": "code",
      "source": [
        "# test dataloader\n",
        "\n",
        "test_text = range(50)\n",
        "t_loader = batch_data(test_text, sequence_length=5, batch_size=10)\n",
        "\n",
        "data_iter = iter(t_loader)\n",
        "sample_x, sample_y = data_iter.next()\n",
        "\n",
        "print(sample_x.shape)\n",
        "print(sample_x)\n",
        "print()\n",
        "print(sample_y.shape)\n",
        "print(sample_y)"
      ],
      "execution_count": 0,
      "outputs": [
        {
          "output_type": "stream",
          "text": [
            "torch.Size([10, 5])\n",
            "tensor([[14, 15, 16, 17, 18],\n",
            "        [32, 33, 34, 35, 36],\n",
            "        [22, 23, 24, 25, 26],\n",
            "        [ 8,  9, 10, 11, 12],\n",
            "        [20, 21, 22, 23, 24],\n",
            "        [18, 19, 20, 21, 22],\n",
            "        [19, 20, 21, 22, 23],\n",
            "        [39, 40, 41, 42, 43],\n",
            "        [21, 22, 23, 24, 25],\n",
            "        [40, 41, 42, 43, 44]])\n",
            "\n",
            "torch.Size([10])\n",
            "tensor([19, 37, 27, 13, 25, 23, 24, 44, 26, 45])\n"
          ],
          "name": "stdout"
        }
      ]
    },
    {
      "metadata": {
        "id": "0deI82dlFcx8",
        "colab_type": "text"
      },
      "cell_type": "markdown",
      "source": [
        "## Define the Network"
      ]
    },
    {
      "metadata": {
        "id": "cn95paUAEpFu",
        "colab_type": "code",
        "colab": {}
      },
      "cell_type": "code",
      "source": [
        "import torch.nn as nn\n",
        "\n",
        "class RNN(nn.Module):\n",
        "  def __init__(self, vocab_size, output_size, embedding_dim, hidden_dim, n_layers, dropout = 0.5):\n",
        "    '''\n",
        "    Initializes the Pytorch's RNN Module\n",
        "    :param vocab_size: The number of input dimensions of the neural network (the size of the vocabulary)\n",
        "    :param output_size: The number of output dimensions of the neural network\n",
        "    :param embedding_dim: The size of embeddings, should you choose to use them        \n",
        "    :param hidden_dim: The size of the hidden layer outputs\n",
        "    :param dropout: dropout to add in between LSTM/GRU layers\n",
        "    '''\n",
        "    super(RNN, self).__init__()\n",
        "    \n",
        "    self.output_size = output_size\n",
        "    self.hidden_dim = hidden_dim\n",
        "    self.n_layers = n_layers\n",
        "    \n",
        "    # embedding and LSTM layers\n",
        "    self.embedding = nn.Embedding(vocab_size, embedding_dim)\n",
        "    self.lstm = nn.LSTM(embedding_dim, hidden_dim, n_layers, \n",
        "                        dropout=dropout, batch_first=True)\n",
        "    \n",
        "    #dropout layer\n",
        "    self.dropout = nn.Dropout(0.3)\n",
        "        \n",
        "    # linear layer\n",
        "    self.fc = nn.Linear(hidden_dim, output_size)\n",
        "    \n",
        "    \n",
        "  def forward(self, nn_input, hidden):\n",
        "    '''\n",
        "    forward propagation of the neural network\n",
        "    :param nn_input: the input of the neural network\n",
        "    :param hidden: The hiiden state\n",
        "    :return: Two tensors, output of the neural network and latest hidden state\n",
        "    '''\n",
        "    batch_size = nn_input.size(0)\n",
        "      \n",
        "    # embeddings and lstm_out\n",
        "    embeds = self.embedding(nn_input)\n",
        "    lstm_output, hidden = self.lstm(embeds, hidden)\n",
        "      \n",
        "    # stack up lstm outputs\n",
        "    lstm_output = lstm_output.contiguous().view(-1, self.hidden_dim)\n",
        "      \n",
        "    # dropout and fully-connected layer\n",
        "    output = self.dropout(lstm_output)\n",
        "    output = self.fc(output)\n",
        "      \n",
        "      \n",
        "    # reshape to be batch_size first\n",
        "    output = output.view(batch_size, -1, self.output_size)\n",
        "    output = output[:, -1] # get last batch of labels       \n",
        "    # return one batch of output word scores and the hidden state\n",
        "    return output, hidden\n",
        "  \n",
        "  def init_hidden(self, batch_size):\n",
        "    ''' Initializes hidden state '''\n",
        "    # Create two new tensors with sizes n_layers x batch_size x hidden_dim,\n",
        "    # initialized to zero, for hidden state and cell state of LSTM\n",
        "    weight = next(self.parameters()).data\n",
        "      \n",
        "    if (train_on_gpu):\n",
        "      hidden = (weight.new(self.n_layers, batch_size, self.hidden_dim).zero_().cuda(),\n",
        "                weight.new(self.n_layers, batch_size, self.hidden_dim).zero_().cuda())\n",
        "    else:\n",
        "      hidden = (weight.new(self.n_layers, batch_size, self.hidden_dim).zero_(),\n",
        "                weight.new(self.n_layers, batch_size, self.hidden_dim).zero_())\n",
        "    return hidden\n",
        "    "
      ],
      "execution_count": 0,
      "outputs": []
    },
    {
      "metadata": {
        "id": "zft_HhjPOM4W",
        "colab_type": "text"
      },
      "cell_type": "markdown",
      "source": [
        "## Define forward and backward propagation"
      ]
    },
    {
      "metadata": {
        "id": "8aLNmvW3OMbY",
        "colab_type": "code",
        "colab": {}
      },
      "cell_type": "code",
      "source": [
        "def forward_back_prop(rnn, optimizer, criterion, inp, target, hidden):\n",
        "  '''\n",
        "  forward and backpropagation of the neural network\n",
        "  :param rnn: pytorch module that holds the rnn network\n",
        "  :param optimizer: optimizer function\n",
        "  :param criterion: loss function\n",
        "  :param inp: A batch of input to the neural network\n",
        "  :parm target:The Target output for the batch of input\n",
        "  :return: The loss and the latest hidden state\n",
        "  '''\n",
        "  \n",
        "  # move data to GPU, if available\n",
        "  if train_on_gpu:\n",
        "    rnn.cuda()\n",
        "  \n",
        "  # create new variable for the hidden state, otherwise \n",
        "  # we would back propagate through  entire training history\n",
        "  h = tuple([each.data for each in hidden])\n",
        "  \n",
        "  # zero accumulate the gradients\n",
        "  rnn.zero_grad()\n",
        "  \n",
        "  if train_on_gpu:\n",
        "    inp, target = inp.cuda(), target.cuda()\n",
        "  \n",
        "  # get the output from the model\n",
        "  output, h = rnn(inp, h)\n",
        "  \n",
        "  # calculate the loss\n",
        "  loss = criterion(output, target)\n",
        "  # backward pass\n",
        "  loss.backward()\n",
        "  # 'clip_grad_norm' prevents exploiding gradient problem in RNN/LSTM\n",
        "  nn.utils.clip_grad_norm(rnn.parameters(), 5)\n",
        "  \n",
        "  # perform single optimization step (parameter update)\n",
        "  optimizer.step()\n",
        "  \n",
        "  return loss.item(), h"
      ],
      "execution_count": 0,
      "outputs": []
    },
    {
      "metadata": {
        "id": "JtgOm8uzUV3r",
        "colab_type": "text"
      },
      "cell_type": "markdown",
      "source": [
        "## Neural Network Training"
      ]
    },
    {
      "metadata": {
        "id": "rTFPpK2YV7hC",
        "colab_type": "text"
      },
      "cell_type": "markdown",
      "source": [
        "### Train loop\n",
        "The training loop is implemented for you in the train_decoder function. This function will train the network over all the batches for the number of epochs given. The model progress will be shown every number of batches. This number is set with the show_every_n_batches parameter"
      ]
    },
    {
      "metadata": {
        "id": "VgRjWMIhTcef",
        "colab_type": "code",
        "colab": {}
      },
      "cell_type": "code",
      "source": [
        "def train_rnn(rnn, batch_size, optimizer, criterion, n_epochs, show_every_n_batches=100):\n",
        "    batch_losses = []\n",
        "    \n",
        "    rnn.train()\n",
        "\n",
        "    print(\"Training for %d epoch(s)...\" % n_epochs)\n",
        "    for epoch_i in range(1, n_epochs + 1):\n",
        "        \n",
        "        # initialize hidden state\n",
        "        hidden = rnn.init_hidden(batch_size)\n",
        "        \n",
        "        for batch_i, (inputs, labels) in enumerate(train_loader, 1):\n",
        "            \n",
        "            # make sure you iterate over completely full batches, only\n",
        "            n_batches = len(train_loader.dataset)//batch_size\n",
        "            if(batch_i > n_batches):\n",
        "                break\n",
        "            \n",
        "            # forward, back prop\n",
        "            loss, hidden = forward_back_prop(rnn, optimizer, criterion, inputs, labels, hidden)          \n",
        "            # record loss\n",
        "            batch_losses.append(loss)\n",
        "\n",
        "            # printing loss stats\n",
        "            if batch_i % show_every_n_batches == 0:\n",
        "                print('Epoch: {:>4}/{:<4}  Loss: {}\\n'.format(\n",
        "                    epoch_i, n_epochs, np.average(batch_losses)))\n",
        "                batch_losses = []\n",
        "\n",
        "    # returns a trained rnn\n",
        "    return rnn"
      ],
      "execution_count": 0,
      "outputs": []
    },
    {
      "metadata": {
        "id": "6DgEunPPXC0K",
        "colab_type": "text"
      },
      "cell_type": "markdown",
      "source": [
        "## Hyperparameters\n",
        "Set and train the neural network with the following parameters:\n",
        "\n",
        "- Set sequence_length to the length of a sequence.\n",
        "- Set batch_size to the batch size.\n",
        "- Set num_epochs to the number of epochs to train for.\n",
        "- Set learning_rate to the learning rate for an Adam optimizer.\n",
        "- Set vocab_size to the number of unique tokens in our vocabulary.\n",
        "- Set output_size to the desired size of the output.\n",
        "- Set embedding_dim to the embedding dimension; smaller than the - vocab_size.\n",
        "- Set hidden_dim to the hidden dimension of your RNN.\n",
        "- Set n_layers to the number of layers/cells in your RNN.\n",
        "- Set show_every_n_batches to the number of batches at which the neural network should print progress.\n",
        "\n",
        "If the network isn't getting the desired results, tweak these parameters and/or the layers in the RNN class.\n"
      ]
    },
    {
      "metadata": {
        "id": "9Ipgc1dTWkp6",
        "colab_type": "code",
        "colab": {}
      },
      "cell_type": "code",
      "source": [
        "# Data params\n",
        "# Sequence Length\n",
        "sequence_length = 20   # of words in a sequence\n",
        "# Batch Size\n",
        "batch_size = 128\n",
        "\n",
        "# data loader - do not change\n",
        "train_loader = batch_data(int_text, sequence_length, batch_size)"
      ],
      "execution_count": 0,
      "outputs": []
    },
    {
      "metadata": {
        "id": "pnKTRvIIYAAt",
        "colab_type": "code",
        "colab": {}
      },
      "cell_type": "code",
      "source": [
        "# optimization hyperparameters\n",
        "# number of epochs to train the model\n",
        "num_epochs = 10\n",
        "# Learning Rate\n",
        "learning_rate = 0.001\n",
        "\n",
        "# Model hyperparameters\n",
        "# Vocab size\n",
        "vocab_size = len(vocab_to_int)\n",
        "# Output size\n",
        "output_size = vocab_size\n",
        "# Embedding Dimension\n",
        "embedding_dim = 200\n",
        "# Hidden Dimension\n",
        "hidden_dim = 512\n",
        "# Number of RNN Layers\n",
        "n_layers = 2\n",
        "\n",
        "# Show stats for every n number of batches\n",
        "show_every_n_batches = 500"
      ],
      "execution_count": 0,
      "outputs": []
    },
    {
      "metadata": {
        "id": "inlYMe0rZMmv",
        "colab_type": "code",
        "colab": {}
      },
      "cell_type": "code",
      "source": [
        "# helper function to save the model\n",
        "def save_model(filename, decoder):\n",
        "  save_filename = os.path.splitext(os.path.basename(filename))[0] + '.pt'\n",
        "  torch.save(decoder, save_filename)"
      ],
      "execution_count": 0,
      "outputs": []
    },
    {
      "metadata": {
        "id": "DU1ojyOQZQIK",
        "colab_type": "code",
        "colab": {}
      },
      "cell_type": "code",
      "source": [
        "# helper function to load the model\n",
        "def load_model(filename):\n",
        "  save_filename = os.path.splitext(os.path.basename(filename))[0] + '.pt'\n",
        "  return torch.load(save_filename)"
      ],
      "execution_count": 0,
      "outputs": []
    },
    {
      "metadata": {
        "id": "TBzhYjRgXKBP",
        "colab_type": "code",
        "outputId": "aa047427-cc0d-4927-ec92-7ec6cee60d12",
        "colab": {
          "base_uri": "https://localhost:8080/",
          "height": 119
        }
      },
      "cell_type": "code",
      "source": [
        "# create a model\n",
        "rnn = RNN(vocab_size, output_size, embedding_dim, hidden_dim, n_layers, dropout=0.5)\n",
        "# move model to GPU if CUDA is available\n",
        "if train_on_gpu:\n",
        "  rnn.cuda()\n",
        "\n",
        "print(rnn)"
      ],
      "execution_count": 0,
      "outputs": [
        {
          "output_type": "stream",
          "text": [
            "RNN(\n",
            "  (embedding): Embedding(21388, 200)\n",
            "  (lstm): LSTM(200, 512, num_layers=2, batch_first=True, dropout=0.5)\n",
            "  (dropout): Dropout(p=0.3)\n",
            "  (fc): Linear(in_features=512, out_features=21388, bias=True)\n",
            ")\n"
          ],
          "name": "stdout"
        }
      ]
    },
    {
      "metadata": {
        "id": "Oc4-KauRZU_l",
        "colab_type": "code",
        "outputId": "d708e730-31c7-4747-f127-ef50bc9ad55a",
        "colab": {
          "base_uri": "https://localhost:8080/",
          "height": 4542
        }
      },
      "cell_type": "code",
      "source": [
        "\n",
        "\n",
        "# defining loss and optimization functions for training\n",
        "optimizer = torch.optim.Adam(rnn.parameters(), lr=learning_rate)\n",
        "criterion = nn.CrossEntropyLoss()\n",
        "\n",
        "# training the model\n",
        "trained_rnn = train_rnn(rnn, batch_size, optimizer, criterion, num_epochs, show_every_n_batches)\n",
        "\n",
        "# saving the trained model\n",
        "save_model('./save/trained_rnn', trained_rnn)\n",
        "print('Model Trained and Saved')"
      ],
      "execution_count": 0,
      "outputs": [
        {
          "output_type": "stream",
          "text": [
            "Training for 10 epoch(s)...\n"
          ],
          "name": "stdout"
        },
        {
          "output_type": "stream",
          "text": [
            "/usr/local/lib/python3.6/dist-packages/ipykernel_launcher.py:34: UserWarning: torch.nn.utils.clip_grad_norm is now deprecated in favor of torch.nn.utils.clip_grad_norm_.\n"
          ],
          "name": "stderr"
        },
        {
          "output_type": "stream",
          "text": [
            "Epoch:    1/10    Loss: 5.3398141145706175\n",
            "\n",
            "Epoch:    1/10    Loss: 4.804179976463318\n",
            "\n",
            "Epoch:    1/10    Loss: 4.628442614555359\n",
            "\n",
            "Epoch:    1/10    Loss: 4.494254862785339\n",
            "\n",
            "Epoch:    1/10    Loss: 4.4316678123474125\n",
            "\n",
            "Epoch:    1/10    Loss: 4.37546141242981\n",
            "\n",
            "Epoch:    1/10    Loss: 4.326348867893219\n",
            "\n",
            "Epoch:    1/10    Loss: 4.298630898952484\n",
            "\n",
            "Epoch:    1/10    Loss: 4.243415849208832\n",
            "\n",
            "Epoch:    1/10    Loss: 4.244653454780579\n",
            "\n",
            "Epoch:    1/10    Loss: 4.2123463587760925\n",
            "\n",
            "Epoch:    1/10    Loss: 4.182699248790741\n",
            "\n",
            "Epoch:    1/10    Loss: 4.164765825748444\n",
            "\n",
            "Epoch:    2/10    Loss: 4.073565861410346\n",
            "\n",
            "Epoch:    2/10    Loss: 3.997549789428711\n",
            "\n",
            "Epoch:    2/10    Loss: 4.018961612224579\n",
            "\n",
            "Epoch:    2/10    Loss: 3.9901534953117372\n",
            "\n",
            "Epoch:    2/10    Loss: 3.9896482038497925\n",
            "\n",
            "Epoch:    2/10    Loss: 4.01260741186142\n",
            "\n",
            "Epoch:    2/10    Loss: 3.978522463321686\n",
            "\n",
            "Epoch:    2/10    Loss: 4.001900125980377\n",
            "\n",
            "Epoch:    2/10    Loss: 3.983846251964569\n",
            "\n",
            "Epoch:    2/10    Loss: 3.9907336673736573\n",
            "\n",
            "Epoch:    2/10    Loss: 3.967687774658203\n",
            "\n",
            "Epoch:    2/10    Loss: 3.9825730991363524\n",
            "\n",
            "Epoch:    2/10    Loss: 3.9831588487625122\n",
            "\n",
            "Epoch:    3/10    Loss: 3.8962443554696957\n",
            "\n",
            "Epoch:    3/10    Loss: 3.8333138580322266\n",
            "\n",
            "Epoch:    3/10    Loss: 3.827485541820526\n",
            "\n",
            "Epoch:    3/10    Loss: 3.8427701659202578\n",
            "\n",
            "Epoch:    3/10    Loss: 3.820032258987427\n",
            "\n",
            "Epoch:    3/10    Loss: 3.8477469477653505\n",
            "\n",
            "Epoch:    3/10    Loss: 3.8336360840797425\n",
            "\n",
            "Epoch:    3/10    Loss: 3.854912044048309\n",
            "\n",
            "Epoch:    3/10    Loss: 3.833805953979492\n",
            "\n",
            "Epoch:    3/10    Loss: 3.8622903833389284\n",
            "\n",
            "Epoch:    3/10    Loss: 3.8627512559890747\n",
            "\n",
            "Epoch:    3/10    Loss: 3.846278154850006\n",
            "\n",
            "Epoch:    3/10    Loss: 3.8326044030189514\n",
            "\n",
            "Epoch:    4/10    Loss: 3.776117007348163\n",
            "\n",
            "Epoch:    4/10    Loss: 3.7057077894210817\n",
            "\n",
            "Epoch:    4/10    Loss: 3.719635504722595\n",
            "\n",
            "Epoch:    4/10    Loss: 3.7057446370124816\n",
            "\n",
            "Epoch:    4/10    Loss: 3.7350767135620115\n",
            "\n",
            "Epoch:    4/10    Loss: 3.747610391616821\n",
            "\n",
            "Epoch:    4/10    Loss: 3.72872407579422\n",
            "\n",
            "Epoch:    4/10    Loss: 3.7685944757461547\n",
            "\n",
            "Epoch:    4/10    Loss: 3.7541912455558775\n",
            "\n",
            "Epoch:    4/10    Loss: 3.768099487781525\n",
            "\n",
            "Epoch:    4/10    Loss: 3.758123106479645\n",
            "\n",
            "Epoch:    4/10    Loss: 3.747534224510193\n",
            "\n",
            "Epoch:    4/10    Loss: 3.781485989570618\n",
            "\n",
            "Epoch:    5/10    Loss: 3.6881960389042687\n",
            "\n",
            "Epoch:    5/10    Loss: 3.6318058757781984\n",
            "\n",
            "Epoch:    5/10    Loss: 3.6390348930358885\n",
            "\n",
            "Epoch:    5/10    Loss: 3.6699153409004213\n",
            "\n",
            "Epoch:    5/10    Loss: 3.6666201987266542\n",
            "\n",
            "Epoch:    5/10    Loss: 3.6489759535789488\n",
            "\n",
            "Epoch:    5/10    Loss: 3.6683110423088072\n",
            "\n",
            "Epoch:    5/10    Loss: 3.679373621940613\n",
            "\n",
            "Epoch:    5/10    Loss: 3.698805506706238\n",
            "\n",
            "Epoch:    5/10    Loss: 3.691986721992493\n",
            "\n",
            "Epoch:    5/10    Loss: 3.687482502937317\n",
            "\n",
            "Epoch:    5/10    Loss: 3.717778311729431\n",
            "\n",
            "Epoch:    5/10    Loss: 3.6993208389282226\n",
            "\n",
            "Epoch:    6/10    Loss: 3.62118757214428\n",
            "\n",
            "Epoch:    6/10    Loss: 3.576059993267059\n",
            "\n",
            "Epoch:    6/10    Loss: 3.568181341648102\n",
            "\n",
            "Epoch:    6/10    Loss: 3.584156572341919\n",
            "\n",
            "Epoch:    6/10    Loss: 3.6347465076446532\n",
            "\n",
            "Epoch:    6/10    Loss: 3.59365691947937\n",
            "\n",
            "Epoch:    6/10    Loss: 3.596759606361389\n",
            "\n",
            "Epoch:    6/10    Loss: 3.6179704818725584\n",
            "\n",
            "Epoch:    6/10    Loss: 3.6133245730400088\n",
            "\n",
            "Epoch:    6/10    Loss: 3.6148562498092653\n",
            "\n",
            "Epoch:    6/10    Loss: 3.6218368048667906\n",
            "\n",
            "Epoch:    6/10    Loss: 3.65846768283844\n",
            "\n",
            "Epoch:    6/10    Loss: 3.6414118161201476\n",
            "\n",
            "Epoch:    7/10    Loss: 3.5704546573240896\n",
            "\n",
            "Epoch:    7/10    Loss: 3.526838144302368\n",
            "\n",
            "Epoch:    7/10    Loss: 3.513933692455292\n",
            "\n",
            "Epoch:    7/10    Loss: 3.5060178761482237\n",
            "\n",
            "Epoch:    7/10    Loss: 3.5521489400863646\n",
            "\n",
            "Epoch:    7/10    Loss: 3.545390529155731\n",
            "\n",
            "Epoch:    7/10    Loss: 3.554109006881714\n",
            "\n",
            "Epoch:    7/10    Loss: 3.5754933347702025\n",
            "\n",
            "Epoch:    7/10    Loss: 3.5979819164276123\n",
            "\n",
            "Epoch:    7/10    Loss: 3.5717600703239443\n",
            "\n",
            "Epoch:    7/10    Loss: 3.6075926451683045\n",
            "\n",
            "Epoch:    7/10    Loss: 3.594706865310669\n",
            "\n",
            "Epoch:    7/10    Loss: 3.604517900943756\n",
            "\n",
            "Epoch:    8/10    Loss: 3.5152597774651424\n",
            "\n",
            "Epoch:    8/10    Loss: 3.4829750261306764\n",
            "\n",
            "Epoch:    8/10    Loss: 3.472245841026306\n",
            "\n",
            "Epoch:    8/10    Loss: 3.482124901771545\n",
            "\n",
            "Epoch:    8/10    Loss: 3.5101316480636595\n",
            "\n",
            "Epoch:    8/10    Loss: 3.5051943192481994\n",
            "\n",
            "Epoch:    8/10    Loss: 3.521214539051056\n",
            "\n",
            "Epoch:    8/10    Loss: 3.524450750827789\n",
            "\n",
            "Epoch:    8/10    Loss: 3.524629403114319\n",
            "\n",
            "Epoch:    8/10    Loss: 3.53539049243927\n",
            "\n",
            "Epoch:    8/10    Loss: 3.539280026435852\n",
            "\n",
            "Epoch:    8/10    Loss: 3.558696716785431\n",
            "\n",
            "Epoch:    8/10    Loss: 3.5363990268707277\n",
            "\n",
            "Epoch:    9/10    Loss: 3.489034357396039\n",
            "\n",
            "Epoch:    9/10    Loss: 3.417902864933014\n",
            "\n",
            "Epoch:    9/10    Loss: 3.424276651382446\n",
            "\n",
            "Epoch:    9/10    Loss: 3.44850342798233\n",
            "\n",
            "Epoch:    9/10    Loss: 3.431735357761383\n",
            "\n",
            "Epoch:    9/10    Loss: 3.4528123254776\n",
            "\n",
            "Epoch:    9/10    Loss: 3.4658158860206605\n",
            "\n",
            "Epoch:    9/10    Loss: 3.482928132534027\n",
            "\n",
            "Epoch:    9/10    Loss: 3.4899657754898072\n",
            "\n",
            "Epoch:    9/10    Loss: 3.5013065934181213\n",
            "\n",
            "Epoch:    9/10    Loss: 3.4880454683303834\n",
            "\n",
            "Epoch:    9/10    Loss: 3.5167332735061647\n",
            "\n",
            "Epoch:    9/10    Loss: 3.5482419142723085\n",
            "\n",
            "Epoch:   10/10    Loss: 3.4508524840035713\n",
            "\n",
            "Epoch:   10/10    Loss: 3.3784004101753236\n",
            "\n",
            "Epoch:   10/10    Loss: 3.3927585558891296\n",
            "\n",
            "Epoch:   10/10    Loss: 3.40549162197113\n",
            "\n",
            "Epoch:   10/10    Loss: 3.419721035003662\n",
            "\n",
            "Epoch:   10/10    Loss: 3.4343130316734314\n",
            "\n",
            "Epoch:   10/10    Loss: 3.434520697593689\n",
            "\n",
            "Epoch:   10/10    Loss: 3.4297055654525757\n",
            "\n",
            "Epoch:   10/10    Loss: 3.4369918899536134\n",
            "\n",
            "Epoch:   10/10    Loss: 3.4694082298278808\n",
            "\n",
            "Epoch:   10/10    Loss: 3.4697668800354005\n",
            "\n",
            "Epoch:   10/10    Loss: 3.4989941387176513\n",
            "\n",
            "Epoch:   10/10    Loss: 3.486877840995789\n",
            "\n",
            "Model Trained and Saved\n"
          ],
          "name": "stdout"
        },
        {
          "output_type": "stream",
          "text": [
            "/usr/local/lib/python3.6/dist-packages/torch/serialization.py:251: UserWarning: Couldn't retrieve source code for container of type RNN. It won't be checked for correctness upon loading.\n",
            "  \"type \" + obj.__name__ + \". It won't be checked \"\n"
          ],
          "name": "stderr"
        }
      ]
    },
    {
      "metadata": {
        "id": "rLbutQfmatUq",
        "colab_type": "text"
      },
      "cell_type": "markdown",
      "source": [
        "## Checkpoint\n",
        "we can resume our progress by running the below cell, which will load in our word:id dictionaries and load in our saved model by name!"
      ]
    },
    {
      "metadata": {
        "id": "sVVDOGunZ1yW",
        "colab_type": "code",
        "colab": {}
      },
      "cell_type": "code",
      "source": [
        "_, vocab_to_int, int_to_vocab, token_dict = load_preprocess()\n",
        "trained_rnn = load_model('./save/trained_rnn')"
      ],
      "execution_count": 0,
      "outputs": []
    },
    {
      "metadata": {
        "id": "4Cb-fphUcHG3",
        "colab_type": "text"
      },
      "cell_type": "markdown",
      "source": [
        "## Generate TV Scrpit\n",
        "With the network trained and saved, we'll use it to generate a new, \"fake\" Seinfeld TV script in this section.\n",
        "\n",
        "### Generate Text\n",
        "To generate the text, the network needs to start with a single word and repeat its predictions until it reaches a set length. we'll be using the generate function to do this. It takes a word id to start with, prime_id, and generates a set length of text, predict_len. Also note that it uses topk sampling to introduce some randomness in choosing the most likely next word, given an output set of word scores!"
      ]
    },
    {
      "metadata": {
        "id": "Pd7XJzIEcxhu",
        "colab_type": "code",
        "colab": {}
      },
      "cell_type": "code",
      "source": [
        "import torch.nn.functional as F\n",
        "\n",
        "def generate(rnn, prime_id, int_to_vocab, token_dict, pad_value, predict_len=100):\n",
        "  \"\"\"\n",
        "  Generate text using the neural network\n",
        "  :param decoder: The PyTorch Module that holds the trained neural network\n",
        "  :param prime_id: The word id to start the first prediction\n",
        "  :param int_to_vocab: Dict of word id keys to word values\n",
        "  :param token_dict: Dict of puncuation tokens keys to puncuation values\n",
        "  :param pad_value: The value used to pad a sequence\n",
        "  :param predict_len: The length of text to generate\n",
        "  :return: The generated text\n",
        "  \"\"\"\n",
        "  rnn.eval()\n",
        "    \n",
        "  # create a sequence (batch_size=1) with the prime_id\n",
        "  current_seq = np.full((1, sequence_length), pad_value)\n",
        "  current_seq[-1][-1] = prime_id\n",
        "  predicted = [int_to_vocab[prime_id]]\n",
        "    \n",
        "  for _ in range(predict_len):\n",
        "    if train_on_gpu:\n",
        "      current_seq = torch.LongTensor(current_seq).cuda()\n",
        "    else:\n",
        "      current_seq = torch.LongTensor(current_seq)\n",
        "      \n",
        "    # initialize the hidden state\n",
        "    hidden = rnn.init_hidden(current_seq.size(0))\n",
        "        \n",
        "    # get the output of the rnn\n",
        "    output, _ = rnn(current_seq, hidden)\n",
        "        \n",
        "    # get the next word probabilities\n",
        "    p = F.softmax(output, dim=1).data\n",
        "    if(train_on_gpu):\n",
        "      p = p.cpu() # move to cpu\n",
        "      \n",
        "    # use top_k sampling to get the index of the next word\n",
        "    top_k = 5\n",
        "    p, top_i = p.topk(top_k)\n",
        "    top_i = top_i.numpy().squeeze()\n",
        "        \n",
        "    # select the likely next word index with some element of randomness\n",
        "    p = p.numpy().squeeze()\n",
        "    word_i = np.random.choice(top_i, p=p/p.sum())\n",
        "        \n",
        "    # retrieve that word from the dictionary\n",
        "    word = int_to_vocab[word_i]\n",
        "    predicted.append(word)     \n",
        "    \n",
        "    if train_on_gpu:\n",
        "      current_seq = current_seq.cpu()\n",
        "    \n",
        "    # the generated word becomes the next \"current sequence\" and the cycle can continue\n",
        "    current_seq = np.roll(current_seq, -1, 1)\n",
        "    current_seq[-1][-1] = word_i\n",
        "    \n",
        "  gen_sentences = ' '.join(predicted)\n",
        "    \n",
        "  # Replace punctuation tokens\n",
        "  for key, token in token_dict.items():\n",
        "    ending = ' ' if key in ['\\n', '(', '\"'] else ''\n",
        "    gen_sentences = gen_sentences.replace(' ' + token.lower(), key)\n",
        "  gen_sentences = gen_sentences.replace('\\n ', '\\n')\n",
        "  gen_sentences = gen_sentences.replace('( ', '(')\n",
        "    \n",
        "  # return all the sentences\n",
        "  return gen_sentences"
      ],
      "execution_count": 0,
      "outputs": []
    },
    {
      "metadata": {
        "id": "McRyo9_mdtZk",
        "colab_type": "text"
      },
      "cell_type": "markdown",
      "source": [
        "## Generate a new script\n",
        "It's time to generate the text. Set gen_length to the length of TV script we want to generate and set prime_word to one of the following to start the prediction:\n",
        "\n",
        "- \"jerry\"\n",
        "- \"elaine\"\n",
        "- \"george\"\n",
        "- \"kramer\"\n",
        "\n",
        "we can set the prime word to any word in our dictionary, but it's best to start with a name for generating a TV script. (we can also start with any other names you find in the original text file!)"
      ]
    },
    {
      "metadata": {
        "id": "p3WHslq1da6S",
        "colab_type": "code",
        "outputId": "a7f6d0cb-4f96-4805-de57-d825bb84bdaf",
        "colab": {
          "base_uri": "https://localhost:8080/",
          "height": 904
        }
      },
      "cell_type": "code",
      "source": [
        "gen_length = 400 # modify the length to your preference\n",
        "prime_word = 'kramer' # name for starting the script\n",
        "\n",
        "\n",
        "pad_word = SPECIAL_WORDS['PADDING']\n",
        "generated_script = generate(trained_rnn, vocab_to_int[prime_word + ':'], int_to_vocab, token_dict, vocab_to_int[pad_word], gen_length)\n",
        "print(generated_script)"
      ],
      "execution_count": 0,
      "outputs": [
        {
          "output_type": "stream",
          "text": [
            "kramer: the other side of his own and he said he was a good driver to make a good thing, and he's a very unusual freak...(george looks at the tag)\n",
            "\n",
            "jerry:(pointing) well... i think i just want to know.\n",
            "\n",
            "kramer:(to jerry) you know, i was wondering what the hell are we doing here?\n",
            "\n",
            "kramer: oh, yeah! i got the car.. you know what i'm gonna do for the first person, and i think i am. but i think it's gonna work, you know, you can do it?\n",
            "\n",
            "jerry: i can't.\n",
            "\n",
            "george: i don't know.\n",
            "\n",
            "george: i know.\n",
            "\n",
            "kramer: well, you can't go.\n",
            "\n",
            "elaine: well, i guess i can see if i had a good time.\n",
            "\n",
            "george: yeah, yeah. i got a good one.(george laughs)\n",
            "\n",
            "george:(to jerry) i don't know what to do.\n",
            "\n",
            "george:(to elaine) hey.\n",
            "\n",
            "jerry: what is that?\n",
            "\n",
            "elaine: what, are you kidding?\n",
            "\n",
            "kramer:(to jerry) hey.\n",
            "\n",
            "jerry: hey, hey, hey.\n",
            "\n",
            "elaine: hey, you know how i got that?\n",
            "\n",
            "george: what?\n",
            "\n",
            "jerry: i don't know, i don't know if he had a little fight with him.\n",
            "\n",
            "elaine: oh, yeah, yeah. yeah.\n",
            "\n",
            "george:(to kramer) what are you doing?\n",
            "\n",
            "kramer: well, i'm gonna go.(to jerry) i think i can go to the bathroom.\n",
            "\n",
            "jerry:(pointing at jerry) hey, what do you think?\n",
            "\n",
            "kramer: i just wanted a big new format, and you know, a little bit about that little thing, i don't know how much money that can be.\n",
            "\n",
            "kramer: well, i'm gonna tell you that, but i don't know why i was going out with him.\n",
            "\n",
            "jerry: well, i guess i could\n"
          ],
          "name": "stdout"
        }
      ]
    },
    {
      "metadata": {
        "id": "F4nmRVl3ePmJ",
        "colab_type": "text"
      },
      "cell_type": "markdown",
      "source": [
        "**Save your favorite scripts¶**\n",
        "Once we have a script that we like (or find interesting), save it to a text file!"
      ]
    },
    {
      "metadata": {
        "id": "gunfZJTJeMf2",
        "colab_type": "code",
        "colab": {}
      },
      "cell_type": "code",
      "source": [
        "# save script to a text file\n",
        "f =  open(\"generated_script_2.txt\",\"w\")\n",
        "f.write(generated_script)\n",
        "f.close()"
      ],
      "execution_count": 0,
      "outputs": []
    }
  ]
}